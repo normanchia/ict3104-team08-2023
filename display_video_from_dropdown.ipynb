{
 "cells": [
  {
   "cell_type": "code",
   "execution_count": null,
   "metadata": {},
   "outputs": [],
   "source": [
    "import os\n",
    "import ipywidgets as widgets\n",
    "from IPython.display import display, clear_output, Video, Image\n",
    "\n",
    "# Directory path where the Charades project videos and GIFs are located\n",
    "charades_dir = \"./input_data\"\n",
    "\n",
    "# Get a list of all video and image files in the current directory (or modify the directory path)\n",
    "supported_extensions = ('.mp4', '.avi', '.mov', '.mkv', '.flv', '.wmv', '.gif')\n",
    "\n",
    "video_files = [f for f in os.listdir(charades_dir) if f.endswith(supported_extensions)]\n",
    "\n",
    "# Create a dropdown widget with video and image files\n",
    "dropdown = widgets.Dropdown(\n",
    "    options=video_files,\n",
    "    description='Select Video/Image:',\n",
    "    disabled=False,\n",
    ")\n",
    "\n",
    "# Create a button for confirmation\n",
    "load_button = widgets.Button(\n",
    "    description='Load Video/Image',\n",
    "    disabled=False,\n",
    "    button_style='info',\n",
    ")\n",
    "\n",
    "# Output widget to display messages and media\n",
    "output = widgets.Output()\n",
    "\n",
    "# Function to \"load\" the selected media when the button is clicked\n",
    "def on_button_click(button):\n",
    "    with output:\n",
    "        clear_output()  # Clear any previous output\n",
    "        if dropdown.value:\n",
    "            media_path = os.path.join(charades_dir, dropdown.value)\n",
    "            if os.path.exists(media_path):\n",
    "                # Determine if the selected file is a video or an image (GIF)\n",
    "                if media_path.lower().endswith(('.mp4', '.avi', '.mov', '.mkv', '.flv', '.wmv')):\n",
    "                    # Display the selected video\n",
    "                    display(Video(media_path, width=300, height=300))\n",
    "                    print(f\"Video '{dropdown.value}' selected for analysis.\")\n",
    "                elif media_path.lower().endswith('.gif'):\n",
    "                    # Display the selected GIF image\n",
    "                    display(Image(filename=media_path, width=300, height=300))\n",
    "                    print(f\"GIF image '{dropdown.value}' selected for analysis.\")\n",
    "                else:\n",
    "                    print(f\"The file format of '{dropdown.value}' is not supported.\")\n",
    "            else:\n",
    "                print(f\"File '{dropdown.value}' does not exist in the specified directory.\")\n",
    "        else:\n",
    "            print(\"Please select a video or image.\")\n",
    "    \n",
    "# Attach event listener to the button\n",
    "load_button.on_click(on_button_click)\n",
    "\n",
    "# Display the dropdown, button, and output widget\n",
    "display(dropdown, load_button, output)\n"
   ]
  },
  {
   "cell_type": "code",
   "execution_count": null,
   "metadata": {},
   "outputs": [],
   "source": []
  }
 ],
 "metadata": {
  "kernelspec": {
   "display_name": "Python 3 (ipykernel)",
   "language": "python",
   "name": "python3"
  },
  "language_info": {
   "codemirror_mode": {
    "name": "ipython",
    "version": 3
   },
   "file_extension": ".py",
   "mimetype": "text/x-python",
   "name": "python",
   "nbconvert_exporter": "python",
   "pygments_lexer": "ipython3",
   "version": "3.11.4"
  }
 },
 "nbformat": 4,
 "nbformat_minor": 2
}
