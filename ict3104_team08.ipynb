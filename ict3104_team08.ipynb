{
 "cells": [
  {
   "cell_type": "code",
   "execution_count": 1,
   "id": "fb8f4db8",
   "metadata": {},
   "outputs": [
    {
     "name": "stdout",
     "output_type": "stream",
     "text": [
      "Python 3.11.4\r\n"
     ]
    }
   ],
   "source": [
    "!python3 --version"
   ]
  },
  {
   "cell_type": "code",
   "execution_count": null,
   "id": "33bc8380",
   "metadata": {},
   "outputs": [],
   "source": [
    "# Create a virtual environment\n",
    "!python3 -m venv ict3104-venv\n",
    "\n",
    "# Activate the virtual environment\n",
    "## On MacOS and Linux\n",
    "!source venv/bin/activate\n",
    "\n",
    "## On Window\n",
    "#! .\\venv\\Scripts\\activate"
   ]
  },
  {
   "cell_type": "code",
   "execution_count": null,
   "id": "79b46547",
   "metadata": {},
   "outputs": [],
   "source": [
    "# Add venv to jupyter\n",
    "!pip install --user ipykernel\n",
    "!python3 -m ipykernel install --user --name=ict3104-venv\n"
   ]
  },
  {
   "cell_type": "code",
   "execution_count": null,
   "id": "b8199a97",
   "metadata": {},
   "outputs": [],
   "source": [
    "# Install required dependencies\n",
    "!pip install -r requirements.txt"
   ]
  },
  {
   "cell_type": "code",
   "execution_count": null,
   "id": "7edfaf64",
   "metadata": {},
   "outputs": [],
   "source": [
    "# Freeze environment and update requirements.txt\n",
    "!pip freeze > requirements.txt"
   ]
  },
  {
   "cell_type": "code",
   "execution_count": null,
   "id": "91fd9869",
   "metadata": {},
   "outputs": [],
   "source": [
    "import os\n",
    "import ipywidgets as widgets\n",
    "from IPython.display import display, clear_output, Video\n",
    "\n",
    "# Get a list of all video files in the current directory (or modify the directory path)\n",
    "video_files = [f for f in os.listdir() if f.endswith(('.mp4', '.avi', '.mov', '.mkv', '.flv', '.wmv'))]  # Add more video extensions if needed\n",
    "\n",
    "# Create a dropdown widget with video files\n",
    "dropdown = widgets.Dropdown(\n",
    "    options=video_files,\n",
    "    description='Select Video:',\n",
    "    disabled=False,\n",
    ")\n",
    "\n",
    "# Create a button for confirmation\n",
    "load_button = widgets.Button(\n",
    "    description='Load Video',\n",
    "    disabled=False,\n",
    "    button_style='info',\n",
    ")\n",
    "\n",
    "#output\n",
    "output = widgets.Output()\n",
    "\n",
    "# Function to \"load\" the selected video when button is clicked - placeholder\n",
    "def on_button_click(button):\n",
    "    with output:\n",
    "        print(f\"Video '{dropdown.value}' loaded!\")\n",
    "    \n",
    "# Attach event listener to the button\n",
    "load_button.on_click(on_button_click)\n",
    "\n",
    "# Display the dropdown, button, and output widget\n",
    "display(dropdown, load_button, output)\n"
   ]
  }
 ],
 "metadata": {
  "kernelspec": {
   "display_name": "Python 3 (ipykernel)",
   "language": "python",
   "name": "python3"
  },
  "language_info": {
   "codemirror_mode": {
    "name": "ipython",
    "version": 3
   },
   "file_extension": ".py",
   "mimetype": "text/x-python",
   "name": "python",
   "nbconvert_exporter": "python",
   "pygments_lexer": "ipython3",
   "version": "3.9.17"
  }
 },
 "nbformat": 4,
 "nbformat_minor": 5
}
