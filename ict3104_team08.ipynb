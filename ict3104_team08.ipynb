{
 "cells": [
  {
   "cell_type": "code",
   "execution_count": 1,
   "id": "fb8f4db8",
   "metadata": {},
   "outputs": [
    {
     "name": "stdout",
     "output_type": "stream",
     "text": [
      "Python 3.11.4\r\n"
     ]
    }
   ],
   "source": [
    "!python3 --version"
   ]
  },
  {
   "cell_type": "code",
   "execution_count": null,
   "id": "33bc8380",
   "metadata": {},
   "outputs": [],
   "source": [
    "# Create a virtual environment\n",
    "!python3 -m venv ict3104-venv\n",
    "\n",
    "# Activate the virtual environment\n",
    "## On MacOS and Linux\n",
    "!source venv/bin/activate\n",
    "\n",
    "## On Window\n",
    "#! .\\venv\\Scripts\\activate"
   ]
  },
  {
   "cell_type": "code",
   "execution_count": null,
   "id": "79b46547",
   "metadata": {},
   "outputs": [],
   "source": [
    "# Add venv to jupyter\n",
    "!pip install --user ipykernel\n",
    "!python3 -m ipykernel install --user --name=ict3104-venv\n"
   ]
  },
  {
   "cell_type": "code",
   "execution_count": null,
   "id": "b8199a97",
   "metadata": {},
   "outputs": [],
   "source": [
    "# Install required dependencies\n",
    "!pip install -r requirements.txt"
   ]
  },
  {
   "cell_type": "code",
   "execution_count": null,
   "id": "7edfaf64",
   "metadata": {},
   "outputs": [],
   "source": [
    "# Freeze environment and update requirements.txt\n",
    "!pip freeze > requirements.txt"
   ]
  },
  {
   "cell_type": "code",
   "execution_count": null,
   "id": "91fd9869",
   "metadata": {},
   "outputs": [],
   "source": []
  }
 ],
 "metadata": {
  "kernelspec": {
   "display_name": "Python 3 (ipykernel)",
   "language": "python",
   "name": "python3"
  },
  "language_info": {
   "codemirror_mode": {
    "name": "ipython",
    "version": 3
   },
   "file_extension": ".py",
   "mimetype": "text/x-python",
   "name": "python",
   "nbconvert_exporter": "python",
   "pygments_lexer": "ipython3",
   "version": "3.9.17"
  }
 },
 "nbformat": 4,
 "nbformat_minor": 5
}
