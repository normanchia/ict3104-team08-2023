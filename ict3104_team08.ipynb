{
 "cells": [
  {
   "cell_type": "code",
   "execution_count": null,
   "id": "fb8f4db8",
   "metadata": {},
   "outputs": [],
   "source": [
    "!python3 --version"
   ]
  },
  {
   "cell_type": "code",
   "execution_count": null,
   "id": "33bc8380",
   "metadata": {},
   "outputs": [],
   "source": [
    "# Create a virtual environment\n",
    "!python3 -m venv ict3104-venv\n",
    "\n",
    "# Activate the virtual environment\n",
    "## On MacOS and Linux\n",
    "!source venv/bin/activate\n",
    "\n",
    "## On Window\n",
    "#! .\\venv\\Scripts\\activate"
   ]
  },
  {
   "cell_type": "code",
   "execution_count": null,
   "id": "79b46547",
   "metadata": {},
   "outputs": [],
   "source": [
    "# Add venv to jupyter\n",
    "!pip install --user ipykernel\n",
    "!python3 -m ipykernel install --user --name=ict3104-venv\n"
   ]
  },
  {
   "cell_type": "code",
   "execution_count": null,
   "id": "b8199a97",
   "metadata": {},
   "outputs": [],
   "source": [
    "# Install required dependencies\n",
    "!pip install -r requirements.txt"
   ]
  },
  {
   "cell_type": "code",
   "execution_count": null,
   "id": "7edfaf64",
   "metadata": {},
   "outputs": [],
   "source": [
    "# Freeze environment and update requirements.txt\n",
    "!pip freeze > requirements.txt"
   ]
  },
  {
   "cell_type": "code",
   "execution_count": null,
   "id": "844fb1d6",
   "metadata": {},
   "outputs": [],
   "source": [
    "import os\n",
    "import ipywidgets as widgets\n",
    "from IPython.display import display, clear_output, Video, Image\n",
    "\n",
    "# Function to retrieve supported files from folder\n",
    "def get_supported_media_files(directory):\n",
    "    supported_extensions = ('.mp4', '.avi', '.mov', '.mkv', '.flv', '.wmv', '.gif')\n",
    "    return [f for f in os.listdir(directory) if f.endswith(supported_extensions)]\n",
    "\n",
    "# Function to display media based on file type\n",
    "def display_media(media_path):\n",
    "    clear_output()  # Clear any previous output\n",
    "    if os.path.exists(media_path):\n",
    "        if media_path.lower().endswith(('.mp4', '.avi', '.mov', '.mkv', '.flv', '.wmv')):\n",
    "            display(Video(media_path, width=300, height=300))\n",
    "            print(f\"Video '{media_path}' selected for analysis.\")\n",
    "        elif media_path.lower().endswith('.gif'):\n",
    "            display(Image(filename=media_path, width=300, height=300))\n",
    "            print(f\"GIF image '{media_path}' selected for analysis.\")\n",
    "        else:\n",
    "            print(f\"The file format of '{media_path}' is not supported.\")\n",
    "    else:\n",
    "        print(f\"File '{media_path}' does not exist in the specified directory.\")\n",
    "\n",
    "def on_button_click(button):\n",
    "    with output:\n",
    "        if dropdown.value:\n",
    "            media_path = os.path.join(charades_dir, dropdown.value)\n",
    "            display_media(media_path)\n",
    "        else:\n",
    "            print(\"Please select a video or image.\")\n",
    "\n",
    "# Directory path where the Charades project videos and GIFs are located\n",
    "charades_dir = \"./input_data\"\n",
    "\n",
    "# Get a list of all video and image files in the current directory (or modify the directory path)\n",
    "video_files = get_supported_media_files(charades_dir)\n",
    "\n",
    "# Sort the video files alphabetically\n",
    "video_files.sort()\n",
    "\n",
    "# Create a dropdown widget with video and image files\n",
    "dropdown = widgets.Dropdown(\n",
    "    options=video_files,\n",
    "    description='Select Video/Image:',\n",
    "    disabled=False,\n",
    ")\n",
    "\n",
    "# Create a button for confirmation\n",
    "load_button = widgets.Button(\n",
    "    description='Load Video/Image',\n",
    "    disabled=False,\n",
    "    button_style='info',\n",
    ")\n",
    "\n",
    "# Output widget to display messages and media\n",
    "output = widgets.Output()\n",
    "\n",
    "# Attach event listener to the button\n",
    "load_button.on_click(on_button_click)\n",
    "\n",
    "# Display the dropdown, button, and output widget\n",
    "display(dropdown, load_button, output)\n"
   ]
  },
  {
   "cell_type": "code",
   "execution_count": null,
   "id": "b434ff30",
   "metadata": {},
   "outputs": [],
   "source": []
  }
 ],
 "metadata": {
  "kernelspec": {
   "display_name": "Python 3 (ipykernel)",
   "language": "python",
   "name": "python3"
  },
  "language_info": {
   "codemirror_mode": {
    "name": "ipython",
    "version": 3
   },
   "file_extension": ".py",
   "mimetype": "text/x-python",
   "name": "python",
   "nbconvert_exporter": "python",
   "pygments_lexer": "ipython3",
   "version": "3.11.4"
  }
 },
 "nbformat": 4,
 "nbformat_minor": 5
}
